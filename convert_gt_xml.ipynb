{
 "cells": [
  {
   "cell_type": "code",
   "execution_count": 1,
   "metadata": {},
   "outputs": [],
   "source": [
    "import sys\n",
    "import os\n",
    "import glob\n",
    "import xml.etree.ElementTree as ET\n"
   ]
  },
  {
   "cell_type": "code",
   "execution_count": 2,
   "metadata": {},
   "outputs": [
    {
     "data": {
      "text/plain": [
       "'/home/purva/Desktop/purva/ssd'"
      ]
     },
     "execution_count": 2,
     "metadata": {},
     "output_type": "execute_result"
    }
   ],
   "source": [
    "pwd"
   ]
  },
  {
   "cell_type": "code",
   "execution_count": 3,
   "metadata": {},
   "outputs": [],
   "source": [
    "parent_path = os.path.abspath(os.path.join(os.getcwd()))"
   ]
  },
  {
   "cell_type": "code",
   "execution_count": 4,
   "metadata": {},
   "outputs": [],
   "source": [
    "GT_PATH = os.path.join(parent_path, 'input','ground_truth')\n",
    "os.chdir(GT_PATH)"
   ]
  },
  {
   "cell_type": "code",
   "execution_count": 5,
   "metadata": {},
   "outputs": [
    {
     "data": {
      "text/plain": [
       "'/home/purva/Desktop/purva/ssd/input/ground_truth'"
      ]
     },
     "execution_count": 5,
     "metadata": {},
     "output_type": "execute_result"
    }
   ],
   "source": [
    "pwd"
   ]
  },
  {
   "cell_type": "code",
   "execution_count": 6,
   "metadata": {},
   "outputs": [],
   "source": [
    "# old files (xml format) will be moved to a \"backup\" folder\n",
    "## create the backup dir if it doesn't exist already\n",
    "if not os.path.exists(\"backup\"):\n",
    "  os.makedirs(\"backup\")\n"
   ]
  },
  {
   "cell_type": "code",
   "execution_count": 7,
   "metadata": {},
   "outputs": [
    {
     "name": "stdout",
     "output_type": "stream",
     "text": [
      "Converting\n"
     ]
    }
   ],
   "source": [
    "# create VOC format files\n",
    "xml_list = glob.glob('*.xml')\n",
    "if len(xml_list) == 0:\n",
    "  print(\"Error: no .xml files found in ground-truth\")\n",
    "else:\n",
    "    print(\"Converting\")"
   ]
  },
  {
   "cell_type": "code",
   "execution_count": 8,
   "metadata": {},
   "outputs": [
    {
     "name": "stdout",
     "output_type": "stream",
     "text": [
      "Conversion completed!\n"
     ]
    }
   ],
   "source": [
    "for tmp_file in xml_list:\n",
    "  #print(tmp_file)\n",
    "  # 1. create new file (VOC format)\n",
    "  with open(tmp_file.replace(\".xml\", \".txt\"), \"a\") as new_f:\n",
    "    root = ET.parse(tmp_file).getroot()\n",
    "    for obj in root.findall('object'):\n",
    "      obj_name = obj.find('name').text\n",
    "      bndbox = obj.find('bndbox')\n",
    "      left = bndbox.find('xmin').text\n",
    "      top = bndbox.find('ymin').text\n",
    "      right = bndbox.find('xmax').text\n",
    "      bottom = bndbox.find('ymax').text\n",
    "      new_f.write(\"%s %s %s %s %s\\n\" % (obj_name, left, top, right, bottom))\n",
    "  # 2. move old file (xml format) to backup\n",
    "  os.rename(tmp_file, os.path.join(\"backup\", tmp_file))\n",
    "print(\"Conversion completed!\")"
   ]
  },
  {
   "cell_type": "code",
   "execution_count": null,
   "metadata": {},
   "outputs": [],
   "source": []
  }
 ],
 "metadata": {
  "kernelspec": {
   "display_name": "Python 3",
   "language": "python",
   "name": "python3"
  },
  "language_info": {
   "codemirror_mode": {
    "name": "ipython",
    "version": 3
   },
   "file_extension": ".py",
   "mimetype": "text/x-python",
   "name": "python",
   "nbconvert_exporter": "python",
   "pygments_lexer": "ipython3",
   "version": "3.7.3"
  }
 },
 "nbformat": 4,
 "nbformat_minor": 2
}
